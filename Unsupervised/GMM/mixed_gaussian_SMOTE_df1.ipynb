{
 "cells": [
  {
   "cell_type": "markdown",
   "metadata": {},
   "source": [
    "# Naive Bayes — Bernoulli\n",
    "# Resample — SMOTE\n",
    "### Import Libraries\n",
    "\n",
    "conda install -c glemaitre imbalanced-learn \n",
    "\n",
    "\n",
    "conda update scikit-learn"
   ]
  },
  {
   "cell_type": "code",
   "execution_count": 12,
   "metadata": {},
   "outputs": [
    {
     "name": "stdout",
     "output_type": "stream",
     "text": [
      "The scikit-learn version is 0.19.1.\n"
     ]
    }
   ],
   "source": [
    "from sklearn import __version__ \n",
    "print('The scikit-learn version is {}.'.format(__version__))"
   ]
  },
  {
   "cell_type": "code",
   "execution_count": 13,
   "metadata": {
    "collapsed": true
   },
   "outputs": [],
   "source": [
    "import pandas as pd, numpy as np #basic package\n",
    "\n",
    "from scipy import stats\n",
    "from sklearn import preprocessing\n",
    "\n",
    "from sklearn.naive_bayes import GaussianNB\n",
    "from sklearn.naive_bayes import BernoulliNB\n",
    "\n",
    "from sklearn.mixture import GaussianMixture\n",
    "from sklearn.mixture import BayesianGaussianMixture\n",
    "from sklearn.mixture import GMM\n",
    "\n",
    "from sklearn.model_selection import train_test_split\n",
    "from sklearn.feature_selection import RFE\n",
    "\n",
    "from sklearn.metrics import accuracy_score, precision_score, log_loss, confusion_matrix\n",
    "\n",
    "from sklearn.utils import resample # resample\n",
    "\n",
    "from imblearn.over_sampling import SMOTE\n",
    "\n",
    "from matplotlib import pyplot as plt\n"
   ]
  },
  {
   "cell_type": "markdown",
   "metadata": {},
   "source": [
    "## Import Data and Define Global Variables"
   ]
  },
  {
   "cell_type": "code",
   "execution_count": 14,
   "metadata": {
    "collapsed": true
   },
   "outputs": [],
   "source": [
    "df = pd.read_csv(\"df1_diag_as_single_column.csv\", index_col = 0)\n",
    "\n",
    "X = df.iloc[:,:-1]\n",
    "y = df.iloc[:,-1]"
   ]
  },
  {
   "cell_type": "code",
   "execution_count": 15,
   "metadata": {
    "scrolled": true
   },
   "outputs": [
    {
     "data": {
      "text/html": [
       "<div>\n",
       "<style>\n",
       "    .dataframe thead tr:only-child th {\n",
       "        text-align: right;\n",
       "    }\n",
       "\n",
       "    .dataframe thead th {\n",
       "        text-align: left;\n",
       "    }\n",
       "\n",
       "    .dataframe tbody tr th {\n",
       "        vertical-align: top;\n",
       "    }\n",
       "</style>\n",
       "<table border=\"1\" class=\"dataframe\">\n",
       "  <thead>\n",
       "    <tr style=\"text-align: right;\">\n",
       "      <th></th>\n",
       "      <th>diag_1</th>\n",
       "      <th>diag_2</th>\n",
       "      <th>diag_3</th>\n",
       "      <th>AfricanAmerican</th>\n",
       "      <th>Asian</th>\n",
       "      <th>Caucasian</th>\n",
       "      <th>Hispanic</th>\n",
       "      <th>Other</th>\n",
       "      <th>Female</th>\n",
       "      <th>Male</th>\n",
       "      <th>...</th>\n",
       "      <th>Yes</th>\n",
       "      <th>time_in_hospital</th>\n",
       "      <th>num_lab_procedures</th>\n",
       "      <th>num_procedures</th>\n",
       "      <th>num_medications</th>\n",
       "      <th>number_outpatient</th>\n",
       "      <th>number_emergency</th>\n",
       "      <th>number_inpatient</th>\n",
       "      <th>number_diagnoses</th>\n",
       "      <th>readmitted_tran</th>\n",
       "    </tr>\n",
       "  </thead>\n",
       "  <tbody>\n",
       "    <tr>\n",
       "      <th>0</th>\n",
       "      <td>250.0</td>\n",
       "      <td>434.952844</td>\n",
       "      <td>409.650469</td>\n",
       "      <td>0</td>\n",
       "      <td>0</td>\n",
       "      <td>1</td>\n",
       "      <td>0</td>\n",
       "      <td>0</td>\n",
       "      <td>1</td>\n",
       "      <td>0</td>\n",
       "      <td>...</td>\n",
       "      <td>0</td>\n",
       "      <td>-1.137746</td>\n",
       "      <td>-0.105230</td>\n",
       "      <td>-0.786854</td>\n",
       "      <td>-1.850615</td>\n",
       "      <td>-0.292413</td>\n",
       "      <td>-0.214198</td>\n",
       "      <td>-0.505835</td>\n",
       "      <td>-3.343200</td>\n",
       "      <td>0</td>\n",
       "    </tr>\n",
       "    <tr>\n",
       "      <th>1</th>\n",
       "      <td>276.0</td>\n",
       "      <td>250.000000</td>\n",
       "      <td>255.000000</td>\n",
       "      <td>0</td>\n",
       "      <td>0</td>\n",
       "      <td>1</td>\n",
       "      <td>0</td>\n",
       "      <td>0</td>\n",
       "      <td>1</td>\n",
       "      <td>0</td>\n",
       "      <td>...</td>\n",
       "      <td>1</td>\n",
       "      <td>-0.468172</td>\n",
       "      <td>0.808668</td>\n",
       "      <td>-0.786854</td>\n",
       "      <td>0.243035</td>\n",
       "      <td>-0.292413</td>\n",
       "      <td>-0.214198</td>\n",
       "      <td>-0.505835</td>\n",
       "      <td>0.810349</td>\n",
       "      <td>0</td>\n",
       "    </tr>\n",
       "    <tr>\n",
       "      <th>2</th>\n",
       "      <td>648.0</td>\n",
       "      <td>250.000000</td>\n",
       "      <td>27.000000</td>\n",
       "      <td>1</td>\n",
       "      <td>0</td>\n",
       "      <td>0</td>\n",
       "      <td>0</td>\n",
       "      <td>0</td>\n",
       "      <td>1</td>\n",
       "      <td>0</td>\n",
       "      <td>...</td>\n",
       "      <td>1</td>\n",
       "      <td>-0.802959</td>\n",
       "      <td>-1.628393</td>\n",
       "      <td>2.147906</td>\n",
       "      <td>-0.372744</td>\n",
       "      <td>1.274004</td>\n",
       "      <td>-0.214198</td>\n",
       "      <td>0.280721</td>\n",
       "      <td>-0.747232</td>\n",
       "      <td>0</td>\n",
       "    </tr>\n",
       "    <tr>\n",
       "      <th>3</th>\n",
       "      <td>8.0</td>\n",
       "      <td>250.000000</td>\n",
       "      <td>403.000000</td>\n",
       "      <td>0</td>\n",
       "      <td>0</td>\n",
       "      <td>1</td>\n",
       "      <td>0</td>\n",
       "      <td>0</td>\n",
       "      <td>0</td>\n",
       "      <td>1</td>\n",
       "      <td>...</td>\n",
       "      <td>1</td>\n",
       "      <td>-0.802959</td>\n",
       "      <td>0.047087</td>\n",
       "      <td>-0.199902</td>\n",
       "      <td>-0.003277</td>\n",
       "      <td>-0.292413</td>\n",
       "      <td>-0.214198</td>\n",
       "      <td>-0.505835</td>\n",
       "      <td>-0.228039</td>\n",
       "      <td>0</td>\n",
       "    </tr>\n",
       "    <tr>\n",
       "      <th>4</th>\n",
       "      <td>197.0</td>\n",
       "      <td>157.000000</td>\n",
       "      <td>250.000000</td>\n",
       "      <td>0</td>\n",
       "      <td>0</td>\n",
       "      <td>1</td>\n",
       "      <td>0</td>\n",
       "      <td>0</td>\n",
       "      <td>0</td>\n",
       "      <td>1</td>\n",
       "      <td>...</td>\n",
       "      <td>1</td>\n",
       "      <td>-1.137746</td>\n",
       "      <td>0.402491</td>\n",
       "      <td>-0.786854</td>\n",
       "      <td>-0.988524</td>\n",
       "      <td>-0.292413</td>\n",
       "      <td>-0.214198</td>\n",
       "      <td>-0.505835</td>\n",
       "      <td>-1.266426</td>\n",
       "      <td>0</td>\n",
       "    </tr>\n",
       "  </tbody>\n",
       "</table>\n",
       "<p>5 rows × 221 columns</p>\n",
       "</div>"
      ],
      "text/plain": [
       "   diag_1      diag_2      diag_3  AfricanAmerican  Asian  Caucasian  \\\n",
       "0   250.0  434.952844  409.650469                0      0          1   \n",
       "1   276.0  250.000000  255.000000                0      0          1   \n",
       "2   648.0  250.000000   27.000000                1      0          0   \n",
       "3     8.0  250.000000  403.000000                0      0          1   \n",
       "4   197.0  157.000000  250.000000                0      0          1   \n",
       "\n",
       "   Hispanic  Other  Female  Male       ...         Yes  time_in_hospital  \\\n",
       "0         0      0       1     0       ...           0         -1.137746   \n",
       "1         0      0       1     0       ...           1         -0.468172   \n",
       "2         0      0       1     0       ...           1         -0.802959   \n",
       "3         0      0       0     1       ...           1         -0.802959   \n",
       "4         0      0       0     1       ...           1         -1.137746   \n",
       "\n",
       "   num_lab_procedures  num_procedures  num_medications  number_outpatient  \\\n",
       "0           -0.105230       -0.786854        -1.850615          -0.292413   \n",
       "1            0.808668       -0.786854         0.243035          -0.292413   \n",
       "2           -1.628393        2.147906        -0.372744           1.274004   \n",
       "3            0.047087       -0.199902        -0.003277          -0.292413   \n",
       "4            0.402491       -0.786854        -0.988524          -0.292413   \n",
       "\n",
       "   number_emergency  number_inpatient  number_diagnoses  readmitted_tran  \n",
       "0         -0.214198         -0.505835         -3.343200                0  \n",
       "1         -0.214198         -0.505835          0.810349                0  \n",
       "2         -0.214198          0.280721         -0.747232                0  \n",
       "3         -0.214198         -0.505835         -0.228039                0  \n",
       "4         -0.214198         -0.505835         -1.266426                0  \n",
       "\n",
       "[5 rows x 221 columns]"
      ]
     },
     "execution_count": 15,
     "metadata": {},
     "output_type": "execute_result"
    }
   ],
   "source": [
    "df.head()"
   ]
  },
  {
   "cell_type": "code",
   "execution_count": 16,
   "metadata": {},
   "outputs": [
    {
     "data": {
      "text/plain": [
       "221"
      ]
     },
     "execution_count": 16,
     "metadata": {},
     "output_type": "execute_result"
    }
   ],
   "source": [
    "len(df.columns)"
   ]
  },
  {
   "cell_type": "code",
   "execution_count": 17,
   "metadata": {},
   "outputs": [
    {
     "data": {
      "text/html": [
       "<div>\n",
       "<style>\n",
       "    .dataframe thead tr:only-child th {\n",
       "        text-align: right;\n",
       "    }\n",
       "\n",
       "    .dataframe thead th {\n",
       "        text-align: left;\n",
       "    }\n",
       "\n",
       "    .dataframe tbody tr th {\n",
       "        vertical-align: top;\n",
       "    }\n",
       "</style>\n",
       "<table border=\"1\" class=\"dataframe\">\n",
       "  <thead>\n",
       "    <tr style=\"text-align: right;\">\n",
       "      <th></th>\n",
       "      <th>diag_1</th>\n",
       "      <th>diag_2</th>\n",
       "      <th>diag_3</th>\n",
       "      <th>AfricanAmerican</th>\n",
       "      <th>Asian</th>\n",
       "      <th>Caucasian</th>\n",
       "      <th>Hispanic</th>\n",
       "      <th>Other</th>\n",
       "      <th>Female</th>\n",
       "      <th>Male</th>\n",
       "      <th>...</th>\n",
       "      <th>Yes</th>\n",
       "      <th>time_in_hospital</th>\n",
       "      <th>num_lab_procedures</th>\n",
       "      <th>num_procedures</th>\n",
       "      <th>num_medications</th>\n",
       "      <th>number_outpatient</th>\n",
       "      <th>number_emergency</th>\n",
       "      <th>number_inpatient</th>\n",
       "      <th>number_diagnoses</th>\n",
       "      <th>readmitted_tran</th>\n",
       "    </tr>\n",
       "  </thead>\n",
       "  <tbody>\n",
       "    <tr>\n",
       "      <th>0</th>\n",
       "      <td>250.0</td>\n",
       "      <td>434.952844</td>\n",
       "      <td>409.650469</td>\n",
       "      <td>0</td>\n",
       "      <td>0</td>\n",
       "      <td>1</td>\n",
       "      <td>0</td>\n",
       "      <td>0</td>\n",
       "      <td>1</td>\n",
       "      <td>0</td>\n",
       "      <td>...</td>\n",
       "      <td>0</td>\n",
       "      <td>-1.137746</td>\n",
       "      <td>-0.105230</td>\n",
       "      <td>-0.786854</td>\n",
       "      <td>-1.850615</td>\n",
       "      <td>-0.292413</td>\n",
       "      <td>-0.214198</td>\n",
       "      <td>-0.505835</td>\n",
       "      <td>-3.343200</td>\n",
       "      <td>0</td>\n",
       "    </tr>\n",
       "    <tr>\n",
       "      <th>1</th>\n",
       "      <td>276.0</td>\n",
       "      <td>250.000000</td>\n",
       "      <td>255.000000</td>\n",
       "      <td>0</td>\n",
       "      <td>0</td>\n",
       "      <td>1</td>\n",
       "      <td>0</td>\n",
       "      <td>0</td>\n",
       "      <td>1</td>\n",
       "      <td>0</td>\n",
       "      <td>...</td>\n",
       "      <td>1</td>\n",
       "      <td>-0.468172</td>\n",
       "      <td>0.808668</td>\n",
       "      <td>-0.786854</td>\n",
       "      <td>0.243035</td>\n",
       "      <td>-0.292413</td>\n",
       "      <td>-0.214198</td>\n",
       "      <td>-0.505835</td>\n",
       "      <td>0.810349</td>\n",
       "      <td>0</td>\n",
       "    </tr>\n",
       "    <tr>\n",
       "      <th>2</th>\n",
       "      <td>648.0</td>\n",
       "      <td>250.000000</td>\n",
       "      <td>27.000000</td>\n",
       "      <td>1</td>\n",
       "      <td>0</td>\n",
       "      <td>0</td>\n",
       "      <td>0</td>\n",
       "      <td>0</td>\n",
       "      <td>1</td>\n",
       "      <td>0</td>\n",
       "      <td>...</td>\n",
       "      <td>1</td>\n",
       "      <td>-0.802959</td>\n",
       "      <td>-1.628393</td>\n",
       "      <td>2.147906</td>\n",
       "      <td>-0.372744</td>\n",
       "      <td>1.274004</td>\n",
       "      <td>-0.214198</td>\n",
       "      <td>0.280721</td>\n",
       "      <td>-0.747232</td>\n",
       "      <td>0</td>\n",
       "    </tr>\n",
       "    <tr>\n",
       "      <th>3</th>\n",
       "      <td>8.0</td>\n",
       "      <td>250.000000</td>\n",
       "      <td>403.000000</td>\n",
       "      <td>0</td>\n",
       "      <td>0</td>\n",
       "      <td>1</td>\n",
       "      <td>0</td>\n",
       "      <td>0</td>\n",
       "      <td>0</td>\n",
       "      <td>1</td>\n",
       "      <td>...</td>\n",
       "      <td>1</td>\n",
       "      <td>-0.802959</td>\n",
       "      <td>0.047087</td>\n",
       "      <td>-0.199902</td>\n",
       "      <td>-0.003277</td>\n",
       "      <td>-0.292413</td>\n",
       "      <td>-0.214198</td>\n",
       "      <td>-0.505835</td>\n",
       "      <td>-0.228039</td>\n",
       "      <td>0</td>\n",
       "    </tr>\n",
       "    <tr>\n",
       "      <th>4</th>\n",
       "      <td>197.0</td>\n",
       "      <td>157.000000</td>\n",
       "      <td>250.000000</td>\n",
       "      <td>0</td>\n",
       "      <td>0</td>\n",
       "      <td>1</td>\n",
       "      <td>0</td>\n",
       "      <td>0</td>\n",
       "      <td>0</td>\n",
       "      <td>1</td>\n",
       "      <td>...</td>\n",
       "      <td>1</td>\n",
       "      <td>-1.137746</td>\n",
       "      <td>0.402491</td>\n",
       "      <td>-0.786854</td>\n",
       "      <td>-0.988524</td>\n",
       "      <td>-0.292413</td>\n",
       "      <td>-0.214198</td>\n",
       "      <td>-0.505835</td>\n",
       "      <td>-1.266426</td>\n",
       "      <td>0</td>\n",
       "    </tr>\n",
       "  </tbody>\n",
       "</table>\n",
       "<p>5 rows × 221 columns</p>\n",
       "</div>"
      ],
      "text/plain": [
       "   diag_1      diag_2      diag_3  AfricanAmerican  Asian  Caucasian  \\\n",
       "0   250.0  434.952844  409.650469                0      0          1   \n",
       "1   276.0  250.000000  255.000000                0      0          1   \n",
       "2   648.0  250.000000   27.000000                1      0          0   \n",
       "3     8.0  250.000000  403.000000                0      0          1   \n",
       "4   197.0  157.000000  250.000000                0      0          1   \n",
       "\n",
       "   Hispanic  Other  Female  Male       ...         Yes  time_in_hospital  \\\n",
       "0         0      0       1     0       ...           0         -1.137746   \n",
       "1         0      0       1     0       ...           1         -0.468172   \n",
       "2         0      0       1     0       ...           1         -0.802959   \n",
       "3         0      0       0     1       ...           1         -0.802959   \n",
       "4         0      0       0     1       ...           1         -1.137746   \n",
       "\n",
       "   num_lab_procedures  num_procedures  num_medications  number_outpatient  \\\n",
       "0           -0.105230       -0.786854        -1.850615          -0.292413   \n",
       "1            0.808668       -0.786854         0.243035          -0.292413   \n",
       "2           -1.628393        2.147906        -0.372744           1.274004   \n",
       "3            0.047087       -0.199902        -0.003277          -0.292413   \n",
       "4            0.402491       -0.786854        -0.988524          -0.292413   \n",
       "\n",
       "   number_emergency  number_inpatient  number_diagnoses  readmitted_tran  \n",
       "0         -0.214198         -0.505835         -3.343200                0  \n",
       "1         -0.214198         -0.505835          0.810349                0  \n",
       "2         -0.214198          0.280721         -0.747232                0  \n",
       "3         -0.214198         -0.505835         -0.228039                0  \n",
       "4         -0.214198         -0.505835         -1.266426                0  \n",
       "\n",
       "[5 rows x 221 columns]"
      ]
     },
     "execution_count": 17,
     "metadata": {},
     "output_type": "execute_result"
    }
   ],
   "source": [
    "df.head()"
   ]
  },
  {
   "cell_type": "markdown",
   "metadata": {},
   "source": [
    "# Resample"
   ]
  },
  {
   "cell_type": "code",
   "execution_count": 18,
   "metadata": {},
   "outputs": [
    {
     "data": {
      "text/plain": [
       "0    88324\n",
       "1    11169\n",
       "Name: readmitted_tran, dtype: int64"
      ]
     },
     "execution_count": 18,
     "metadata": {},
     "output_type": "execute_result"
    }
   ],
   "source": [
    "pd.Series(y).value_counts()"
   ]
  },
  {
   "cell_type": "markdown",
   "metadata": {},
   "source": [
    "# SMOTE"
   ]
  },
  {
   "cell_type": "code",
   "execution_count": 19,
   "metadata": {
    "collapsed": true
   },
   "outputs": [],
   "source": [
    "X_train, X_test, y_train, y_test = train_test_split(X, y, test_size=0.3, random_state = 42)"
   ]
  },
  {
   "cell_type": "code",
   "execution_count": 20,
   "metadata": {
    "collapsed": true
   },
   "outputs": [],
   "source": [
    "sm = SMOTE(random_state=42)\n",
    "X_train, y_train = sm.fit_sample(X_train, y_train)"
   ]
  },
  {
   "cell_type": "code",
   "execution_count": 21,
   "metadata": {},
   "outputs": [
    {
     "data": {
      "text/plain": [
       "1    61722\n",
       "0    61722\n",
       "dtype: int64"
      ]
     },
     "execution_count": 21,
     "metadata": {},
     "output_type": "execute_result"
    }
   ],
   "source": [
    "pd.Series(y_train).value_counts()"
   ]
  },
  {
   "cell_type": "code",
   "execution_count": 22,
   "metadata": {
    "collapsed": true
   },
   "outputs": [],
   "source": [
    "gmm = GaussianMixture(n_components=2, covariance_type='full').fit(X_train)\n",
    "\n",
    "plt.scatter(X.iloc[:,0], X.iloc[:, 1], s = 1)\n",
    "\n",
    "centers = np.empty(shape=(gmm.n_components, X.shape[1]))"
   ]
  },
  {
   "cell_type": "markdown",
   "metadata": {},
   "source": [
    "# Centroids"
   ]
  },
  {
   "cell_type": "code",
   "execution_count": 23,
   "metadata": {
    "collapsed": true
   },
   "outputs": [],
   "source": [
    "Centroids = pd.DataFrame(centers)"
   ]
  },
  {
   "cell_type": "code",
   "execution_count": 24,
   "metadata": {
    "collapsed": true
   },
   "outputs": [],
   "source": [
    "Centroids.columns = X.columns"
   ]
  },
  {
   "cell_type": "code",
   "execution_count": 29,
   "metadata": {},
   "outputs": [
    {
     "data": {
      "text/html": [
       "<div>\n",
       "<style>\n",
       "    .dataframe thead tr:only-child th {\n",
       "        text-align: right;\n",
       "    }\n",
       "\n",
       "    .dataframe thead th {\n",
       "        text-align: left;\n",
       "    }\n",
       "\n",
       "    .dataframe tbody tr th {\n",
       "        vertical-align: top;\n",
       "    }\n",
       "</style>\n",
       "<table border=\"1\" class=\"dataframe\">\n",
       "  <thead>\n",
       "    <tr style=\"text-align: right;\">\n",
       "      <th></th>\n",
       "      <th>diag_1</th>\n",
       "      <th>diag_2</th>\n",
       "      <th>diag_3</th>\n",
       "      <th>AfricanAmerican</th>\n",
       "      <th>Asian</th>\n",
       "      <th>Caucasian</th>\n",
       "      <th>Hispanic</th>\n",
       "      <th>Other</th>\n",
       "      <th>Female</th>\n",
       "      <th>Male</th>\n",
       "      <th>...</th>\n",
       "      <th>No.12</th>\n",
       "      <th>Yes</th>\n",
       "      <th>time_in_hospital</th>\n",
       "      <th>num_lab_procedures</th>\n",
       "      <th>num_procedures</th>\n",
       "      <th>num_medications</th>\n",
       "      <th>number_outpatient</th>\n",
       "      <th>number_emergency</th>\n",
       "      <th>number_inpatient</th>\n",
       "      <th>number_diagnoses</th>\n",
       "    </tr>\n",
       "  </thead>\n",
       "  <tbody>\n",
       "    <tr>\n",
       "      <th>0</th>\n",
       "      <td>427.497820</td>\n",
       "      <td>428.000000</td>\n",
       "      <td>414.000000</td>\n",
       "      <td>0.0</td>\n",
       "      <td>0.0</td>\n",
       "      <td>1.0</td>\n",
       "      <td>0.0</td>\n",
       "      <td>0.0</td>\n",
       "      <td>0.000000</td>\n",
       "      <td>1.000000</td>\n",
       "      <td>...</td>\n",
       "      <td>0.49782</td>\n",
       "      <td>0.50218</td>\n",
       "      <td>-0.802959</td>\n",
       "      <td>0.150180</td>\n",
       "      <td>-0.492099</td>\n",
       "      <td>-0.802985</td>\n",
       "      <td>-0.292413</td>\n",
       "      <td>-0.214198</td>\n",
       "      <td>-0.110842</td>\n",
       "      <td>0.810349</td>\n",
       "    </tr>\n",
       "    <tr>\n",
       "      <th>1</th>\n",
       "      <td>425.235015</td>\n",
       "      <td>513.617508</td>\n",
       "      <td>594.161277</td>\n",
       "      <td>0.0</td>\n",
       "      <td>0.0</td>\n",
       "      <td>1.0</td>\n",
       "      <td>0.0</td>\n",
       "      <td>0.0</td>\n",
       "      <td>0.654377</td>\n",
       "      <td>0.345623</td>\n",
       "      <td>...</td>\n",
       "      <td>0.00000</td>\n",
       "      <td>1.00000</td>\n",
       "      <td>0.560874</td>\n",
       "      <td>0.398747</td>\n",
       "      <td>-0.178262</td>\n",
       "      <td>0.991052</td>\n",
       "      <td>0.248977</td>\n",
       "      <td>0.153496</td>\n",
       "      <td>0.309721</td>\n",
       "      <td>0.810349</td>\n",
       "    </tr>\n",
       "  </tbody>\n",
       "</table>\n",
       "<p>2 rows × 220 columns</p>\n",
       "</div>"
      ],
      "text/plain": [
       "       diag_1      diag_2      diag_3  AfricanAmerican  Asian  Caucasian  \\\n",
       "0  427.497820  428.000000  414.000000              0.0    0.0        1.0   \n",
       "1  425.235015  513.617508  594.161277              0.0    0.0        1.0   \n",
       "\n",
       "   Hispanic  Other    Female      Male        ...           No.12      Yes  \\\n",
       "0       0.0    0.0  0.000000  1.000000        ...         0.49782  0.50218   \n",
       "1       0.0    0.0  0.654377  0.345623        ...         0.00000  1.00000   \n",
       "\n",
       "   time_in_hospital  num_lab_procedures  num_procedures  num_medications  \\\n",
       "0         -0.802959            0.150180       -0.492099        -0.802985   \n",
       "1          0.560874            0.398747       -0.178262         0.991052   \n",
       "\n",
       "   number_outpatient  number_emergency  number_inpatient  number_diagnoses  \n",
       "0          -0.292413         -0.214198         -0.110842          0.810349  \n",
       "1           0.248977          0.153496          0.309721          0.810349  \n",
       "\n",
       "[2 rows x 220 columns]"
      ]
     },
     "execution_count": 29,
     "metadata": {},
     "output_type": "execute_result"
    }
   ],
   "source": [
    "Centroids"
   ]
  },
  {
   "cell_type": "markdown",
   "metadata": {},
   "source": [
    "### Save centroids to csv"
   ]
  },
  {
   "cell_type": "markdown",
   "metadata": {},
   "source": [
    "Centroids.to_csv(\"Centroids_GMM_df1.csv\")"
   ]
  },
  {
   "cell_type": "code",
   "execution_count": 26,
   "metadata": {
    "collapsed": true
   },
   "outputs": [],
   "source": [
    "for i in range(gmm.n_components):\n",
    "    density = stats.multivariate_normal(cov=gmm.covariances_[i], mean=gmm.means_[i],  allow_singular=True).logpdf(X_train)\n",
    "    centers[i, :] = X_train[np.argmax(density)]"
   ]
  },
  {
   "cell_type": "code",
   "execution_count": 27,
   "metadata": {},
   "outputs": [
    {
     "data": {
      "image/png": "[encoded data removed]",
      "text/plain": [
       "<matplotlib.figure.Figure at 0x1a1f6468d0>"
      ]
     },
     "metadata": {},
     "output_type": "display_data"
    }
   ],
   "source": [
    "plt.scatter(centers[:, 0], centers[:, 1], s=20)\n",
    "plt.show()"
   ]
  }
 ],
 "metadata": {
  "kernelspec": {
   "display_name": "Python 3",
   "language": "python",
   "name": "python3"
  },
  "language_info": {
   "codemirror_mode": {
    "name": "ipython",
    "version": 3
   },
   "file_extension": ".py",
   "mimetype": "text/x-python",
   "name": "python",
   "nbconvert_exporter": "python",
   "pygments_lexer": "ipython3",
   "version": "3.6.1"
  }
 },
 "nbformat": 4,
 "nbformat_minor": 2
}
